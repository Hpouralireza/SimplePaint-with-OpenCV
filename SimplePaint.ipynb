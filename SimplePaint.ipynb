{
 "cells": [
  {
   "cell_type": "code",
   "execution_count": 3,
   "id": "b83813df",
   "metadata": {},
   "outputs": [],
   "source": [
    "import cv2\n",
    "import numpy as np\n",
    "import matplotlib.pyplot as plt"
   ]
  },
  {
   "cell_type": "code",
   "execution_count": 5,
   "id": "9990e99b",
   "metadata": {},
   "outputs": [
    {
     "data": {
      "text/plain": [
       "<matplotlib.image.AxesImage at 0x22f00841c90>"
      ]
     },
     "execution_count": 5,
     "metadata": {},
     "output_type": "execute_result"
    },
    {
     "data": {
      "image/png": "[encoded data removed]",
      "text/plain": [
       "<Figure size 640x480 with 1 Axes>"
      ]
     },
     "metadata": {},
     "output_type": "display_data"
    }
   ],
   "source": [
    "drawing = False\n",
    "win_name = \"OpenCV Paint App\"\n",
    "color_preview_pos = [(400, 30), (490,90)]\n",
    "bgr_track = {'B': 0, 'G': 0, 'R': 0, 'Br Size': 1}\n",
    "font = cv2.FONT_HERSHEY_DUPLEX\n",
    "ix, iy = 0,0\n",
    "\n",
    "img = np.zeros((400,512,3), np.uint8)\n",
    "org_img = img.copy()\n",
    "cv2.namedWindow(win_name)\n",
    "\n",
    "# The same function as nothing\n",
    "def br_or_bg(x):\n",
    "    pass\n",
    "\n",
    "# To change the text and display the red color value\n",
    "def update_R_value(x):\n",
    "    global font, img, bgr_track\n",
    "    img = cv2.putText(img, f\"{bgr_track['R']}\", (50, 65), font, 0.5, 1, cv2.LINE_8)\n",
    "    img = cv2.putText(img, f\"{x}\", (50, 65), font, 0.5, (0,0,255), 1, cv2.LINE_8)\n",
    "    bgr_track['R'] = x\n",
    "    \n",
    "# To change the text and display the green color value\n",
    "def update_G_value(x):\n",
    "    global font, img, bgr_track\n",
    "    img = cv2.putText(img, f\"{bgr_track['G']}\", (140, 65), font, 0.5, 1, cv2.LINE_8)\n",
    "    img = cv2.putText(img, f\"{x}\", (140, 65), font, 0.5, (0,255,0), 1, cv2.LINE_8)\n",
    "    bgr_track['G'] = x\n",
    "    \n",
    "# To change the text and display the blue color value\n",
    "def update_B_value(x):\n",
    "    global font, img, bgr_track\n",
    "    img = cv2.putText(img, f\"{bgr_track['B']}\", (230, 65), font, 0.5, 1, cv2.LINE_8)\n",
    "    img = cv2.putText(img, f\"{x}\", (230, 65), font, 0.5, (255,0,0), 1, cv2.LINE_8)\n",
    "    bgr_track['B'] = x\n",
    "    \n",
    "# To change the text and display the brush size value  \n",
    "def update_brs_value(x):\n",
    "    global font, img, bgr_track\n",
    "    img = cv2.putText(img, f\"{bgr_track['Br Size']}\", (365, 65), font, 0.5, 1, cv2.LINE_8)\n",
    "    img = cv2.putText(img, f\"{x}\", (365, 65), font, 0.5, (255,255,255), 1, cv2.LINE_8)\n",
    "    bgr_track['Br Size'] = x\n",
    "\n",
    "# drawing Line with mouse events\n",
    "def draw_line(event, x, y, flags, param):\n",
    "    global drawing, img, ix, iy\n",
    "\n",
    "    if event == cv2.EVENT_LBUTTONDOWN:\n",
    "        drawing = True\n",
    "        ix, iy = x,y\n",
    "\n",
    "    elif event == cv2.EVENT_MOUSEMOVE:\n",
    "        if drawing:\n",
    "            cv2.line(img, (ix, iy), (x, y), (cv2.getTrackbarPos(\"B\", win_name),\n",
    "                                             cv2.getTrackbarPos(\"G\", win_name),\n",
    "                                             cv2.getTrackbarPos(\"R\", win_name)), cv2.getTrackbarPos(\"Br Size\", win_name))\n",
    "            drawing = True\n",
    "            ix, iy = x,y\n",
    "\n",
    "    elif event==cv2.EVENT_LBUTTONUP:\n",
    "        drawing = False\n",
    "\n",
    "\n",
    "# Trackbars creation\n",
    "cv2.createTrackbar(\"Br/Bg SW\", win_name, 0 ,1, br_or_bg)\n",
    "cv2.createTrackbar(\"R\", win_name, 0 ,255, update_R_value)\n",
    "cv2.createTrackbar(\"G\", win_name, 0, 255, update_G_value)\n",
    "cv2.createTrackbar(\"B\", win_name, 0, 255, update_B_value)\n",
    "cv2.createTrackbar(\"Br Size\", win_name, 1, 15, update_brs_value)\n",
    "# Set the minimum size of the brush Trackbar\n",
    "cv2.setTrackbarMin(\"Br Size\", win_name, 1)\n",
    "# Draw lines on mouse events\n",
    "cv2.setMouseCallback(win_name, draw_line)\n",
    "\n",
    "while True:\n",
    "    cv2.imshow(win_name, img)\n",
    "    \n",
    "    key = cv2.waitKey(1) & 0xFF\n",
    "    if key == 27:\n",
    "        break\n",
    "    elif key == ord(\"r\"):\n",
    "        img = org_img.copy()\n",
    "        \n",
    "    # Get Trackbars values\n",
    "    sw = cv2.getTrackbarPos(\"Br/Bg SW\", win_name)\n",
    "    b = cv2.getTrackbarPos(\"B\", win_name)\n",
    "    g = cv2.getTrackbarPos(\"G\", win_name)\n",
    "    r = cv2.getTrackbarPos(\"R\", win_name)\n",
    "    s = cv2.getTrackbarPos(\"Br Size\", win_name)\n",
    "    \n",
    "    # If change the sw switch to bg, we can create the background color with r, g, and b\n",
    "    if sw == 1:\n",
    "        img[:] = [b, g, r]\n",
    "        \n",
    "    else:\n",
    "        # Update appearance settings after switching back to brush \n",
    "        cv2.rectangle(img, color_preview_pos[0], color_preview_pos[1], (b,g,r), -1)\n",
    "        img = cv2.putText(img, \"R: \", (30, 65), font, 0.5, (0,0,255), 1)\n",
    "        img = cv2.putText(img, \"G: \", (120, 65), font, 0.5, (0,255,0), 1)\n",
    "        img = cv2.putText(img, \"B: \", (210, 65), font, 0.5, (255,0,0), 1)\n",
    "        img = cv2.putText(img, \"Br Size: \", (300, 65), font, 0.5, (255,255,255), 1)\n",
    "        \n",
    "        img = cv2.putText(img, str(r), (50, 65), font, 0.5, (0,0,255), 1)\n",
    "        img = cv2.putText(img, str(g), (140, 65), font, 0.5, (0,255,0), 1)\n",
    "        img = cv2.putText(img, str(b), (230, 65), font, 0.5, (255,0,0), 1)\n",
    "        img = cv2.putText(img, str(s), (365, 65), font, 0.5, (255,255,255), 1)\n",
    "        \n",
    "    \n",
    "cv2.destroyAllWindows()\n",
    "img = img[100:512, 0:512]\n",
    "plt.imshow(img[...,::-1])"
   ]
  },
  {
   "cell_type": "code",
   "execution_count": null,
   "id": "b9b0e0d4",
   "metadata": {},
   "outputs": [],
   "source": []
  },
  {
   "cell_type": "code",
   "execution_count": null,
   "id": "b955691d",
   "metadata": {},
   "outputs": [],
   "source": []
  }
 ],
 "metadata": {
  "kernelspec": {
   "display_name": "Python 3 (ipykernel)",
   "language": "python",
   "name": "python3"
  },
  "language_info": {
   "codemirror_mode": {
    "name": "ipython",
    "version": 3
   },
   "file_extension": ".py",
   "mimetype": "text/x-python",
   "name": "python",
   "nbconvert_exporter": "python",
   "pygments_lexer": "ipython3",
   "version": "3.10.9"
  }
 },
 "nbformat": 4,
 "nbformat_minor": 5
}
